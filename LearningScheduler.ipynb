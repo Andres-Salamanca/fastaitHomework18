{
 "cells": [
  {
   "cell_type": "markdown",
   "id": "e05d10eb-fff5-4a31-82f8-509c27f74f39",
   "metadata": {},
   "source": [
    "$$ \\eta_t = \\eta_{\\text{min}} + \\frac{1}{2} (\\eta_{\\text{max}} - \\eta_{\\text{min}}) \\left(1 + \\cos\\left(\\frac{T_{\\text{cur}}}{T_{\\text{max}}} \\pi\\right)\\right) $$\n"
   ]
  },
  {
   "cell_type": "markdown",
   "id": "d9653151-3742-4ab4-a9f0-ed1a494d990b",
   "metadata": {},
   "source": [
    "$$ \\eta_t $$  is the learning rate \n",
    "$$ T_{\\text{cur}} $$  is the number of epochs since the last restart "
   ]
  },
  {
   "cell_type": "code",
   "execution_count": 20,
   "id": "3eed45c6-85f7-4bc8-9fb5-9b14a81bd68f",
   "metadata": {},
   "outputs": [],
   "source": [
    "import torch\n",
    "\n",
    "from miniai.datasets import *\n",
    "from miniai.conv import *\n",
    "from miniai.learner import *\n",
    "from miniai.activations import *\n",
    "from miniai.init import *\n",
    "from miniai.sgd import *"
   ]
  },
  {
   "cell_type": "code",
   "execution_count": 4,
   "id": "3f639070-30fb-4af9-98c8-5e96c67e4f8b",
   "metadata": {},
   "outputs": [],
   "source": [
    "import pickle,gzip,math,os,time,shutil,torch,matplotlib as mpl,numpy as np,matplotlib.pyplot as plt\n",
    "import fastcore.all as fc\n",
    "from operator import attrgetter,itemgetter\n",
    "from functools import partial\n",
    "import torchvision.transforms.functional as TF,torch.nn.functional as F\n",
    "from torch import tensor,nn,optim\n",
    "from torch.utils.data import DataLoader,default_collate\n",
    "from torch.nn import init\n",
    "from torch.optim import lr_scheduler\n",
    "from torcheval.metrics import MulticlassAccuracy\n",
    "from datasets import load_dataset,load_dataset_builder\n",
    "from torch.optim import Optimizer\n",
    "from miniai.datasets import *\n",
    "from miniai.conv import *\n",
    "from miniai.learner import *\n",
    "from miniai.activations import *\n",
    "from miniai.init import *"
   ]
  },
  {
   "cell_type": "code",
   "execution_count": 5,
   "id": "3a3414ab-19a7-4891-8308-3b4526622ddb",
   "metadata": {},
   "outputs": [],
   "source": [
    "import math"
   ]
  },
  {
   "cell_type": "code",
   "execution_count": 6,
   "id": "fb9be745-1d99-457c-9d63-d286e15fb295",
   "metadata": {
    "scrolled": true
   },
   "outputs": [
    {
     "name": "stderr",
     "output_type": "stream",
     "text": [
      "Found cached dataset fashion_mnist (/home/andres/.cache/huggingface/datasets/fashion_mnist/fashion_mnist/1.0.0/0a671f063342996f19779d38c0ab4abef9c64f757b35af8134b331c294d7ba48)\n"
     ]
    },
    {
     "data": {
      "application/vnd.jupyter.widget-view+json": {
       "model_id": "c8c72a27384547b3801a1b4857750e57",
       "version_major": 2,
       "version_minor": 0
      },
      "text/plain": [
       "  0%|          | 0/2 [00:00<?, ?it/s]"
      ]
     },
     "metadata": {},
     "output_type": "display_data"
    }
   ],
   "source": [
    "xl,yl = 'image','label'\n",
    "name = \"fashion_mnist\"\n",
    "dsd = load_dataset(name)\n",
    "\n",
    "bs = 1024\n",
    "xmean,xstd = 0.28, 0.35\n",
    "\n",
    "@inplace\n",
    "def transformi(b): b[xl] = [(TF.to_tensor(o)-xmean)/xstd for o in b[xl]]\n",
    "\n",
    "tds = dsd.with_transform(transformi)\n",
    "dls = DataLoaders.from_dd(tds, bs, num_workers=4)"
   ]
  },
  {
   "cell_type": "code",
   "execution_count": 7,
   "id": "fab59d57-2ba6-4b4b-8bc0-675e7ec3729e",
   "metadata": {},
   "outputs": [],
   "source": [
    "metrics = MetricsCB(accuracy=MulticlassAccuracy())\n",
    "astats = ActivationStats(fc.risinstance(GeneralRelu))\n",
    "cbs = [DeviceCB(), metrics, ProgressCB(plot=True), astats]\n",
    "act_gr = partial(GeneralRelu, leak=0.1, sub=0.4)\n",
    "iw = partial(init_weights, leaky=0.1)\n",
    "lrf_cbs = [DeviceCB(), LRFinderCB()]"
   ]
  },
  {
   "cell_type": "code",
   "execution_count": 8,
   "id": "6a614d9d-cf3a-47f1-80dc-b24d3c062496",
   "metadata": {},
   "outputs": [],
   "source": [
    "learn = TrainLearner(get_model(), dls, F.cross_entropy, lr=6e-3, cbs=[DeviceCB(), SingleBatchCB()])\n",
    "learn.fit(1)"
   ]
  },
  {
   "cell_type": "code",
   "execution_count": 9,
   "id": "267fb27b-dcd0-432a-88d5-aee91d6964d2",
   "metadata": {},
   "outputs": [
    {
     "data": {
      "text/plain": [
       "'add_param_group defaults load_state_dict param_groups profile_hook_step register_step_post_hook register_step_pre_hook state state_dict step zero_grad'"
      ]
     },
     "execution_count": 9,
     "metadata": {},
     "output_type": "execute_result"
    }
   ],
   "source": [
    "opt = learn.opt\n",
    "' '.join(o for o in dir(opt) if o[0]!='_')"
   ]
  },
  {
   "cell_type": "code",
   "execution_count": 10,
   "id": "beb0c2eb-c20b-48ab-94e3-4c0fb3078c08",
   "metadata": {},
   "outputs": [
    {
     "data": {
      "text/plain": [
       "['params',\n",
       " 'lr',\n",
       " 'momentum',\n",
       " 'dampening',\n",
       " 'weight_decay',\n",
       " 'nesterov',\n",
       " 'maximize',\n",
       " 'foreach',\n",
       " 'differentiable']"
      ]
     },
     "execution_count": 10,
     "metadata": {},
     "output_type": "execute_result"
    }
   ],
   "source": [
    "pg = opt.param_groups[0]\n",
    "list(pg)"
   ]
  },
  {
   "cell_type": "code",
   "execution_count": 11,
   "id": "15d79d61-70bf-4582-8369-03fc35b8b916",
   "metadata": {},
   "outputs": [],
   "source": [
    "sched = lr_scheduler.CosineAnnealingLR(opt, 100)"
   ]
  },
  {
   "cell_type": "code",
   "execution_count": 12,
   "id": "4a8a2f03-297b-49fb-b397-517877941498",
   "metadata": {},
   "outputs": [],
   "source": [
    "def sched_lrs(sched, steps):\n",
    "    lrs = [sched.get_last_lr()]\n",
    "    for i in range(steps):\n",
    "        sched.optimizer.step()\n",
    "        sched.step()\n",
    "        lrs.append(sched.get_last_lr())\n",
    "    plt.plot(lrs)"
   ]
  },
  {
   "cell_type": "code",
   "execution_count": 13,
   "id": "b5eb995a-6503-4317-b90c-03661ae2cb1d",
   "metadata": {},
   "outputs": [
    {
     "data": {
      "image/png": "[encoded data removed]",
      "text/plain": [
       "<Figure size 640x480 with 1 Axes>"
      ]
     },
     "metadata": {},
     "output_type": "display_data"
    }
   ],
   "source": [
    "sched_lrs(sched,110)"
   ]
  },
  {
   "cell_type": "markdown",
   "id": "fe1a4f4c-996a-4391-af98-0be524658b9d",
   "metadata": {},
   "source": [
    "For the COSINEANNEALINGLR we need parameters: `optimizer`,`Maximun iterations`,`last_epoch` cumplying with pytoch API"
   ]
  },
  {
   "cell_type": "markdown",
   "id": "c03054ff-bd8d-49f1-9542-803c76b71367",
   "metadata": {},
   "source": [
    "# first attempt"
   ]
  },
  {
   "cell_type": "markdown",
   "id": "8c7a0638-a0d0-459c-9f9f-e36739ae690a",
   "metadata": {},
   "source": [
    "$$ \\eta_t = \\eta_{\\text{min}} + \\frac{1}{2} (\\eta_{\\text{max}} - \\eta_{\\text{min}}) \\left(1 + \\cos\\left(\\frac{T_{\\text{cur}}}{T_{\\text{max}}} \\pi\\right)\\right) $$"
   ]
  },
  {
   "cell_type": "code",
   "execution_count": 14,
   "id": "afd4042a-e4d0-4a1a-ad2e-809fdbcf080c",
   "metadata": {},
   "outputs": [],
   "source": [
    "def CosAni(opt,max_it,last_epoch):\n",
    "    if not isinstance(opt,Optimizer):\n",
    "        raise TypeError(f'wrong type {type(optimizer).__name__}')\n",
    "    lr_max = opt.param_groups[0]['initial_lr']"
   ]
  },
  {
   "cell_type": "code",
   "execution_count": 15,
   "id": "d988d73e-a536-48bc-bd0d-7fed9bae3f44",
   "metadata": {},
   "outputs": [],
   "source": [
    "class CosAni:\n",
    "    def __init__(self,opt,max_it,last_epoch = -1):\n",
    "        if not isinstance(opt,Optimizer):\n",
    "            raise TypeError(f'wrong type {type(optimizer).__name__}')\n",
    "        self.optimizer=opt\n",
    "        self.eta_max = opt.param_groups[0]['lr']\n",
    "        self.eta_min = 0\n",
    "        self.T_cur=0\n",
    "        self.T_max=max_it\n",
    "        self.current_lr = opt.param_groups[0]['lr']\n",
    "    ## you need to run this function after optimizer step\n",
    "    def step(self):\n",
    "        self.current_lr= self.eta_min + 1/2*(self.eta_max-self.eta_min)*(1+math.cos(self.T_cur/self.T_max * math.pi))\n",
    "        #print(f'new_lr = {self.current_lr}')\n",
    "        self.T_cur+=1\n",
    "        ##self.optimizer.param_groups[0]['lr'] = self.current_lr\n",
    "    def get_last_lr(self):\n",
    "        return  self.current_lr\n",
    "        \n",
    "        "
   ]
  },
  {
   "cell_type": "code",
   "execution_count": 16,
   "id": "9b02497c-215d-4532-ba24-baff1900a81f",
   "metadata": {},
   "outputs": [],
   "source": [
    "sched2 = CosAni(opt,100)"
   ]
  },
  {
   "cell_type": "code",
   "execution_count": 17,
   "id": "c7d8311e-5a44-4243-ab54-01d7051aaddc",
   "metadata": {
    "collapsed": true,
    "jupyter": {
     "outputs_hidden": true
    }
   },
   "outputs": [
    {
     "name": "stdout",
     "output_type": "stream",
     "text": [
      "new_lr = 0.00014683045111453906\n",
      "new_lr = 0.00014679422513249035\n",
      "new_lr = 0.00014668558293701487\n",
      "new_lr = 0.00014650463174484303\n",
      "new_lr = 0.00014625155013295503\n",
      "new_lr = 0.00014592658786234683\n",
      "new_lr = 0.0001455300656315464\n",
      "new_lr = 0.00014506237476012278\n",
      "new_lr = 0.00014452397680250113\n",
      "new_lr = 0.000143915403092464\n",
      "new_lr = 0.00014323725421878922\n",
      "new_lr = 0.0001424901994325412\n",
      "new_lr = 0.00014167497598660094\n",
      "new_lr = 0.00014079238840808647\n",
      "new_lr = 0.0001398433077043817\n",
      "new_lr = 0.0001388286705035573\n",
      "new_lr = 0.0001377494781300318\n",
      "new_lr = 0.00013660679561638544\n",
      "new_lr = 0.00013540175065230144\n",
      "new_lr = 0.0001341355324716725\n",
      "new_lr = 0.00013280939067897055\n",
      "new_lr = 0.00013142463401603793\n",
      "new_lr = 0.00012998262907051728\n",
      "new_lr = 0.00012848479892719445\n",
      "new_lr = 0.00012693262176358564\n",
      "new_lr = 0.00012532762939115476\n",
      "new_lr = 0.0001236714057436003\n",
      "new_lr = 0.00012196558531370408\n",
      "new_lr = 0.00012021185154028425\n",
      "new_lr = 0.00011841193514684431\n",
      "new_lr = 0.00011656761243355802\n",
      "new_lr = 0.00011468070352427565\n",
      "new_lr = 0.00011275307057028139\n",
      "new_lr = 0.00011078661591257485\n",
      "new_lr = 0.00010878328020449027\n",
      "new_lr = 0.00010674504049650587\n",
      "new_lr = 0.00010467390828513377\n",
      "new_lr = 0.00010257192752781576\n",
      "new_lr = 0.00010044117262578413\n",
      "new_lr = 9.8283746376878e-05\n",
      "new_lr = 9.610177790033579e-05\n",
      "new_lr = 9.389742053561166e-05\n",
      "new_lr = 9.167284971728927e-05\n",
      "new_lr = 8.943026082819062e-05\n",
      "new_lr = 8.71718670327982e-05\n",
      "new_lr = 8.489989709312888e-05\n",
      "new_lr = 8.261659316921487e-05\n",
      "new_lr = 8.032420860636248e-05\n",
      "new_lr = 7.802500571137222e-05\n",
      "new_lr = 7.572125351991538e-05\n",
      "new_lr = 7.341522555726953e-05\n",
      "new_lr = 7.110919759462369e-05\n",
      "new_lr = 6.880544540316685e-05\n",
      "new_lr = 6.650624250817662e-05\n",
      "new_lr = 6.421385794532418e-05\n",
      "new_lr = 6.193055402141017e-05\n",
      "new_lr = 5.965858408174086e-05\n",
      "new_lr = 5.7400190286348486e-05\n",
      "new_lr = 5.515760139724982e-05\n",
      "new_lr = 5.293303057892742e-05\n",
      "new_lr = 5.072867321420328e-05\n",
      "new_lr = 4.854670473766109e-05\n",
      "new_lr = 4.638927848875495e-05\n",
      "new_lr = 4.425852358672331e-05\n",
      "new_lr = 4.2156542829405294e-05\n",
      "new_lr = 4.0085410618033194e-05\n",
      "new_lr = 3.804717091004878e-05\n",
      "new_lr = 3.604383520196421e-05\n",
      "new_lr = 3.407738054425766e-05\n",
      "new_lr = 3.2149747590263424e-05\n",
      "new_lr = 3.0262838680981047e-05\n",
      "new_lr = 2.841851596769478e-05\n",
      "new_lr = 2.6618599574254813e-05\n",
      "new_lr = 2.486486580083499e-05\n",
      "new_lr = 2.315904537093877e-05\n",
      "new_lr = 2.150282172338432e-05\n",
      "new_lr = 1.9897829350953445e-05\n",
      "new_lr = 1.8345652187344628e-05\n",
      "new_lr = 1.6847822044021795e-05\n",
      "new_lr = 1.5405817098501123e-05\n",
      "new_lr = 1.4021060435568517e-05\n",
      "new_lr = 1.269491864286655e-05\n",
      "new_lr = 1.1428700462237646e-05\n",
      "new_lr = 1.0223655498153636e-05\n",
      "new_lr = 9.08097298450728e-06\n",
      "new_lr = 8.001780610981779e-06\n",
      "new_lr = 6.987143410157368e-06\n",
      "new_lr = 6.038062706452587e-06\n",
      "new_lr = 5.155475127938127e-06\n",
      "new_lr = 4.340251681997869e-06\n",
      "new_lr = 3.5931968957498495e-06\n",
      "new_lr = 2.9150480220750666e-06\n",
      "new_lr = 2.3064743120379427e-06\n",
      "new_lr = 1.7680763544162757e-06\n",
      "new_lr = 1.3003854829926872e-06\n",
      "new_lr = 9.038632521922475e-07\n",
      "new_lr = 5.789009815840558e-07\n",
      "new_lr = 3.258193696960283e-07\n",
      "new_lr = 1.4486817752419127e-07\n",
      "new_lr = 3.622598204871117e-08\n",
      "new_lr = 0.0\n",
      "new_lr = 3.622598204871117e-08\n",
      "new_lr = 1.4486817752419127e-07\n",
      "new_lr = 3.258193696960283e-07\n",
      "new_lr = 5.789009815840477e-07\n",
      "new_lr = 9.038632521922394e-07\n",
      "new_lr = 1.3003854829926872e-06\n",
      "new_lr = 1.7680763544162757e-06\n",
      "new_lr = 2.3064743120379427e-06\n",
      "new_lr = 2.9150480220750666e-06\n"
     ]
    },
    {
     "data": {
      "image/png": "[encoded data removed]",
      "text/plain": [
       "<Figure size 640x480 with 1 Axes>"
      ]
     },
     "metadata": {},
     "output_type": "display_data"
    }
   ],
   "source": [
    "sched_lrs(sched2,110)"
   ]
  },
  {
   "cell_type": "markdown",
   "id": "7b145f01-9c4f-429c-8880-b78d5c677d34",
   "metadata": {},
   "source": [
    "## try with putorch"
   ]
  },
  {
   "cell_type": "code",
   "execution_count": 22,
   "id": "5246eb62-6279-4037-b5b2-d1f5b9e15194",
   "metadata": {},
   "outputs": [],
   "source": [
    "def _lr(cb): return cb.pg['lr']"
   ]
  },
  {
   "cell_type": "code",
   "execution_count": 18,
   "id": "c3bd3b02-5872-43f6-804f-ef5960e551e7",
   "metadata": {},
   "outputs": [],
   "source": [
    "tmax = 3 * len(dls.train)\n",
    "sched = partial(lr_scheduler.CosineAnnealingLR, T_max=tmax)"
   ]
  },
  {
   "cell_type": "code",
   "execution_count": 23,
   "id": "f31efa25-68e1-4f9e-a289-3be1faf37ad9",
   "metadata": {},
   "outputs": [
    {
     "data": {
      "text/html": [
       "\n",
       "<style>\n",
       "    /* Turns off some styling */\n",
       "    progress {\n",
       "        /* gets rid of default border in Firefox and Opera. */\n",
       "        border: none;\n",
       "        /* Needs to be in here for Safari polyfill so background images work as expected. */\n",
       "        background-size: auto;\n",
       "    }\n",
       "    progress:not([value]), progress:not([value])::-webkit-progress-bar {\n",
       "        background: repeating-linear-gradient(45deg, #7e7e7e, #7e7e7e 10px, #5c5c5c 10px, #5c5c5c 20px);\n",
       "    }\n",
       "    .progress-bar-interrupted, .progress-bar-interrupted::-webkit-progress-bar {\n",
       "        background: #F44336;\n",
       "    }\n",
       "</style>\n"
      ],
      "text/plain": [
       "<IPython.core.display.HTML object>"
      ]
     },
     "metadata": {},
     "output_type": "display_data"
    },
    {
     "data": {
      "text/html": [
       "<table border=\"1\" class=\"dataframe\">\n",
       "  <thead>\n",
       "    <tr style=\"text-align: left;\">\n",
       "      <th>accuracy</th>\n",
       "      <th>loss</th>\n",
       "      <th>epoch</th>\n",
       "      <th>train</th>\n",
       "    </tr>\n",
       "  </thead>\n",
       "  <tbody>\n",
       "    <tr>\n",
       "      <td>0.796</td>\n",
       "      <td>0.553</td>\n",
       "      <td>0</td>\n",
       "      <td>train</td>\n",
       "    </tr>\n",
       "    <tr>\n",
       "      <td>0.854</td>\n",
       "      <td>0.399</td>\n",
       "      <td>0</td>\n",
       "      <td>eval</td>\n",
       "    </tr>\n",
       "    <tr>\n",
       "      <td>0.875</td>\n",
       "      <td>0.345</td>\n",
       "      <td>1</td>\n",
       "      <td>train</td>\n",
       "    </tr>\n",
       "    <tr>\n",
       "      <td>0.866</td>\n",
       "      <td>0.359</td>\n",
       "      <td>1</td>\n",
       "      <td>eval</td>\n",
       "    </tr>\n",
       "    <tr>\n",
       "      <td>0.890</td>\n",
       "      <td>0.301</td>\n",
       "      <td>2</td>\n",
       "      <td>train</td>\n",
       "    </tr>\n",
       "    <tr>\n",
       "      <td>0.874</td>\n",
       "      <td>0.341</td>\n",
       "      <td>2</td>\n",
       "      <td>eval</td>\n",
       "    </tr>\n",
       "  </tbody>\n",
       "</table>"
      ],
      "text/plain": [
       "<IPython.core.display.HTML object>"
      ]
     },
     "metadata": {},
     "output_type": "display_data"
    },
    {
     "data": {
      "image/png": "[encoded data removed]",
      "text/plain": [
       "<Figure size 600x400 with 1 Axes>"
      ]
     },
     "metadata": {},
     "output_type": "display_data"
    }
   ],
   "source": [
    "set_seed(42)\n",
    "model = get_model(act_gr, norm=nn.BatchNorm2d).apply(iw)\n",
    "rec = RecorderCB(lr=_lr)\n",
    "xtra = [BatchSchedCB(sched),rec]\n",
    "learn = TrainLearner(model, dls, F.cross_entropy, lr=2e-2, cbs=cbs+xtra, opt_func=optim.AdamW)\n",
    "learn.fit(3)"
   ]
  },
  {
   "cell_type": "code",
   "execution_count": 26,
   "id": "98576f5f-672f-4738-8299-55f22866ba3d",
   "metadata": {},
   "outputs": [],
   "source": [
    "sched = partial(CosAni, max_it=tmax)"
   ]
  },
  {
   "cell_type": "code",
   "execution_count": 27,
   "id": "9b1552d1-f0f0-47f2-b34a-e0b032ecd998",
   "metadata": {},
   "outputs": [
    {
     "data": {
      "text/html": [
       "\n",
       "<style>\n",
       "    /* Turns off some styling */\n",
       "    progress {\n",
       "        /* gets rid of default border in Firefox and Opera. */\n",
       "        border: none;\n",
       "        /* Needs to be in here for Safari polyfill so background images work as expected. */\n",
       "        background-size: auto;\n",
       "    }\n",
       "    progress:not([value]), progress:not([value])::-webkit-progress-bar {\n",
       "        background: repeating-linear-gradient(45deg, #7e7e7e, #7e7e7e 10px, #5c5c5c 10px, #5c5c5c 20px);\n",
       "    }\n",
       "    .progress-bar-interrupted, .progress-bar-interrupted::-webkit-progress-bar {\n",
       "        background: #F44336;\n",
       "    }\n",
       "</style>\n"
      ],
      "text/plain": [
       "<IPython.core.display.HTML object>"
      ]
     },
     "metadata": {},
     "output_type": "display_data"
    },
    {
     "data": {
      "text/html": [
       "<table border=\"1\" class=\"dataframe\">\n",
       "  <thead>\n",
       "    <tr style=\"text-align: left;\">\n",
       "      <th>accuracy</th>\n",
       "      <th>loss</th>\n",
       "      <th>epoch</th>\n",
       "      <th>train</th>\n",
       "    </tr>\n",
       "  </thead>\n",
       "  <tbody>\n",
       "    <tr>\n",
       "      <td>0.796</td>\n",
       "      <td>0.552</td>\n",
       "      <td>0</td>\n",
       "      <td>train</td>\n",
       "    </tr>\n",
       "    <tr>\n",
       "      <td>0.847</td>\n",
       "      <td>0.419</td>\n",
       "      <td>0</td>\n",
       "      <td>eval</td>\n",
       "    </tr>\n",
       "    <tr>\n",
       "      <td>0.872</td>\n",
       "      <td>0.349</td>\n",
       "      <td>1</td>\n",
       "      <td>train</td>\n",
       "    </tr>\n",
       "    <tr>\n",
       "      <td>0.864</td>\n",
       "      <td>0.360</td>\n",
       "      <td>1</td>\n",
       "      <td>eval</td>\n",
       "    </tr>\n",
       "    <tr>\n",
       "      <td>0.886</td>\n",
       "      <td>0.307</td>\n",
       "      <td>2</td>\n",
       "      <td>train</td>\n",
       "    </tr>\n",
       "    <tr>\n",
       "      <td>0.876</td>\n",
       "      <td>0.342</td>\n",
       "      <td>2</td>\n",
       "      <td>eval</td>\n",
       "    </tr>\n",
       "  </tbody>\n",
       "</table>"
      ],
      "text/plain": [
       "<IPython.core.display.HTML object>"
      ]
     },
     "metadata": {},
     "output_type": "display_data"
    },
    {
     "name": "stdout",
     "output_type": "stream",
     "text": [
      "new_lr = 0.02\n",
      "new_lr = 0.01999842488663838\n",
      "new_lr = 0.019993700042749935\n",
      "new_lr = 0.019985826956767618\n",
      "new_lr = 0.019974808108892014\n",
      "new_lr = 0.019960646970310025\n",
      "new_lr = 0.01994334800210137\n",
      "new_lr = 0.019922916653833247\n",
      "new_lr = 0.019899359361843578\n",
      "new_lr = 0.019872683547213447\n",
      "new_lr = 0.01984289761342926\n",
      "new_lr = 0.019810010943735478\n",
      "new_lr = 0.019774033898178667\n",
      "new_lr = 0.019734977810343866\n",
      "new_lr = 0.019692854983784234\n",
      "new_lr = 0.01964767868814516\n",
      "new_lr = 0.01959946315498402\n",
      "new_lr = 0.01954822357328692\n",
      "new_lr = 0.01949397608468381\n",
      "new_lr = 0.019436737778363525\n",
      "new_lr = 0.01937652668569028\n",
      "new_lr = 0.019313361774523388\n",
      "new_lr = 0.019247262943241958\n",
      "new_lr = 0.019178251014476465\n",
      "new_lr = 0.019106347728549133\n",
      "new_lr = 0.01903157573662524\n",
      "new_lr = 0.018953958593577493\n",
      "new_lr = 0.018873520750565715\n",
      "new_lr = 0.018790287547334174\n",
      "new_lr = 0.01870428520422897\n",
      "new_lr = 0.018615540813938063\n",
      "new_lr = 0.018524082332956427\n",
      "new_lr = 0.018429938572779154\n",
      "new_lr = 0.01833313919082515\n",
      "new_lr = 0.018233714681094405\n",
      "new_lr = 0.01813169636456167\n",
      "new_lr = 0.018027116379309635\n",
      "new_lr = 0.01792000767040474\n",
      "new_lr = 0.01781040397951868\n",
      "new_lr = 0.01769833983429906\n",
      "new_lr = 0.017583850537492385\n",
      "new_lr = 0.017466972155822876\n",
      "new_lr = 0.017347741508630672\n",
      "new_lr = 0.017226196156272872\n",
      "new_lr = 0.01710237438829118\n",
      "new_lr = 0.01697631521134985\n",
      "new_lr = 0.016848058336947656\n",
      "new_lr = 0.01671764416890793\n",
      "new_lr = 0.016585113790650387\n",
      "new_lr = 0.016450508952248956\n",
      "new_lr = 0.016313872057279535\n",
      "new_lr = 0.01617524614946192\n",
      "new_lr = 0.01603467489910004\n",
      "new_lr = 0.015892202589324837\n",
      "new_lr = 0.01574787410214407\n",
      "new_lr = 0.01560173490430346\n",
      "new_lr = 0.015453831032963649\n",
      "new_lr = 0.015304209081197425\n",
      "new_lr = 0.01515291618331188\n"
     ]
    },
    {
     "data": {
      "image/png": "[encoded data removed]",
      "text/plain": [
       "<Figure size 600x400 with 1 Axes>"
      ]
     },
     "metadata": {},
     "output_type": "display_data"
    },
    {
     "name": "stdout",
     "output_type": "stream",
     "text": [
      "new_lr = 0.015\n",
      "new_lr = 0.014845508703326502\n",
      "new_lr = 0.014689490961552512\n",
      "new_lr = 0.014531995923803973\n",
      "new_lr = 0.014373073204588556\n",
      "new_lr = 0.014212772868165958\n",
      "new_lr = 0.014051145412776536\n",
      "new_lr = 0.013888241754733209\n",
      "new_lr = 0.013724113212381659\n",
      "new_lr = 0.013558811489933908\n",
      "new_lr = 0.013392388661180301\n",
      "new_lr = 0.013224897153085089\n",
      "new_lr = 0.013056389729270739\n",
      "new_lr = 0.01288691947339621\n",
      "new_lr = 0.012716539772434388\n",
      "new_lr = 0.012545304299853977\n",
      "new_lr = 0.01237326699871115\n",
      "new_lr = 0.01220048206465625\n",
      "new_lr = 0.012027003928860936\n",
      "new_lr = 0.011852887240871144\n",
      "new_lr = 0.011678186851391216\n",
      "new_lr = 0.011502957795004706\n",
      "new_lr = 0.01132725527283722\n",
      "new_lr = 0.011151134635166829\n",
      "new_lr = 0.010974651363987465\n",
      "new_lr = 0.01079786105553083\n",
      "new_lr = 0.01062081940275234\n",
      "new_lr = 0.010443582177786563\n",
      "new_lr = 0.010266205214377749\n",
      "new_lr = 0.01008874439029091\n",
      "new_lr = 0.00991125560970909\n",
      "new_lr = 0.009733794785622253\n",
      "new_lr = 0.009556417822213434\n",
      "new_lr = 0.00937918059724766\n",
      "new_lr = 0.009202138944469168\n",
      "new_lr = 0.009025348636012535\n",
      "new_lr = 0.008848865364833172\n",
      "new_lr = 0.008672744727162781\n",
      "new_lr = 0.008497042204995298\n",
      "new_lr = 0.008321813148608784\n",
      "new_lr = 0.008147112759128858\n",
      "new_lr = 0.007972996071139065\n",
      "new_lr = 0.007799517935343756\n",
      "new_lr = 0.007626733001288851\n",
      "new_lr = 0.0074546957001460235\n",
      "new_lr = 0.007283460227565613\n",
      "new_lr = 0.007113080526603793\n",
      "new_lr = 0.00694361027072926\n",
      "new_lr = 0.006775102846914911\n",
      "new_lr = 0.0066076113388196965\n",
      "new_lr = 0.006441188510066091\n",
      "new_lr = 0.006275886787618339\n",
      "new_lr = 0.006111758245266794\n",
      "new_lr = 0.005948854587223464\n",
      "new_lr = 0.005787227131834043\n",
      "new_lr = 0.005626926795411447\n",
      "new_lr = 0.005468004076196029\n",
      "new_lr = 0.005310509038447492\n",
      "new_lr = 0.005154491296673499\n",
      "new_lr = 0.005000000000000003\n",
      "new_lr = 0.004847083816688123\n",
      "new_lr = 0.004695790918802576\n",
      "new_lr = 0.004546168967036352\n",
      "new_lr = 0.0043982650956965385\n",
      "new_lr = 0.004252125897855932\n",
      "new_lr = 0.004107797410675166\n",
      "new_lr = 0.003965325100899962\n",
      "new_lr = 0.003824753850538082\n",
      "new_lr = 0.003686127942720463\n",
      "new_lr = 0.0035494910477510445\n",
      "new_lr = 0.0034148862093496147\n",
      "new_lr = 0.003282355831092072\n",
      "new_lr = 0.0031519416630523445\n",
      "new_lr = 0.003023684788650154\n",
      "new_lr = 0.0028976256117088195\n",
      "new_lr = 0.0027738038437271286\n",
      "new_lr = 0.002652258491369329\n",
      "new_lr = 0.0025330278441771225\n",
      "new_lr = 0.0024161494625076162\n",
      "new_lr = 0.002301660165700936\n",
      "new_lr = 0.002189596020481319\n",
      "new_lr = 0.0020799923295952627\n",
      "new_lr = 0.0019728836206903654\n",
      "new_lr = 0.0018683036354383321\n",
      "new_lr = 0.0017662853189055949\n",
      "new_lr = 0.0016668608091748493\n",
      "new_lr = 0.0015700614272208492\n",
      "new_lr = 0.0014759176670435749\n",
      "new_lr = 0.0013844591860619382\n",
      "new_lr = 0.001295714795771029\n",
      "new_lr = 0.0012097124526658277\n",
      "new_lr = 0.0011264792494342856\n",
      "new_lr = 0.00104604140642251\n",
      "new_lr = 0.0009684242633747642\n",
      "new_lr = 0.0008936522714508677\n",
      "new_lr = 0.0008217489855235338\n",
      "new_lr = 0.0007527370567580416\n",
      "new_lr = 0.0006866382254766157\n",
      "new_lr = 0.0006234733143097215\n",
      "new_lr = 0.0005632622216364735\n",
      "new_lr = 0.0005060239153161872\n",
      "new_lr = 0.0004517764267130808\n",
      "new_lr = 0.00040053684501598075\n",
      "new_lr = 0.00035232131185484073\n",
      "new_lr = 0.0003071450162157663\n",
      "new_lr = 0.00026502218965613337\n",
      "new_lr = 0.00022596610182133326\n",
      "new_lr = 0.00018998905626452567\n",
      "new_lr = 0.00015710238657074216\n",
      "new_lr = 0.00012731645278655446\n",
      "new_lr = 0.00010064063815642177\n",
      "new_lr = 7.708334616675416e-05\n",
      "new_lr = 5.665199789862907e-05\n",
      "new_lr = 3.9353029689974675e-05\n",
      "new_lr = 2.5191891107985144e-05\n",
      "new_lr = 1.4173043232380556e-05\n",
      "new_lr = 6.299957250064381e-06\n",
      "new_lr = 1.5751133616215274e-06\n"
     ]
    }
   ],
   "source": [
    "set_seed(42)\n",
    "model = get_model(act_gr, norm=nn.BatchNorm2d).apply(iw)\n",
    "rec = RecorderCB(lr=_lr)\n",
    "xtra = [BatchSchedCB(sched),rec]\n",
    "learn = TrainLearner(model, dls, F.cross_entropy, lr=2e-2, cbs=cbs+xtra, opt_func=optim.AdamW)\n",
    "learn.fit(3)"
   ]
  },
  {
   "cell_type": "code",
   "execution_count": null,
   "id": "ff2ddd68-c328-4b2e-88b1-9854c1845129",
   "metadata": {},
   "outputs": [],
   "source": []
  }
 ],
 "metadata": {
  "kernelspec": {
   "display_name": "Python 3 (ipykernel)",
   "language": "python",
   "name": "python3"
  },
  "language_info": {
   "codemirror_mode": {
    "name": "ipython",
    "version": 3
   },
   "file_extension": ".py",
   "mimetype": "text/x-python",
   "name": "python",
   "nbconvert_exporter": "python",
   "pygments_lexer": "ipython3",
   "version": "3.10.10"
  }
 },
 "nbformat": 4,
 "nbformat_minor": 5
}
