{
 "cells": [
  {
   "cell_type": "markdown",
   "id": "e05d10eb-fff5-4a31-82f8-509c27f74f39",
   "metadata": {},
   "source": [
    "$$ \\eta_t = \\eta_{\\text{min}} + \\frac{1}{2} (\\eta_{\\text{max}} - \\eta_{\\text{min}}) \\left(1 + \\cos\\left(\\frac{T_{\\text{cur}}}{T_{\\text{max}}} \\pi\\right)\\right) $$\n"
   ]
  },
  {
   "cell_type": "markdown",
   "id": "d9653151-3742-4ab4-a9f0-ed1a494d990b",
   "metadata": {},
   "source": [
    "$$ \\eta_t $$  is the learning rate \n",
    "$$ T_{\\text{cur}} $$  is the number of epochs since the last restart "
   ]
  },
  {
   "cell_type": "code",
   "execution_count": 1,
   "id": "3eed45c6-85f7-4bc8-9fb5-9b14a81bd68f",
   "metadata": {},
   "outputs": [],
   "source": [
    "import torch\n",
    "\n",
    "from miniai.datasets import *\n",
    "from miniai.conv import *\n",
    "from miniai.learner import *\n",
    "from miniai.activations import *\n",
    "from miniai.init import *"
   ]
  },
  {
   "cell_type": "code",
   "execution_count": 47,
   "id": "3f639070-30fb-4af9-98c8-5e96c67e4f8b",
   "metadata": {},
   "outputs": [],
   "source": [
    "import pickle,gzip,math,os,time,shutil,torch,matplotlib as mpl,numpy as np,matplotlib.pyplot as plt\n",
    "import fastcore.all as fc\n",
    "from operator import attrgetter,itemgetter\n",
    "from functools import partial\n",
    "import torchvision.transforms.functional as TF,torch.nn.functional as F\n",
    "from torch import tensor,nn,optim\n",
    "from torch.utils.data import DataLoader,default_collate\n",
    "from torch.nn import init\n",
    "from torch.optim import lr_scheduler\n",
    "from torcheval.metrics import MulticlassAccuracy\n",
    "from datasets import load_dataset,load_dataset_builder\n",
    "from torch.optim import Optimizer\n",
    "from miniai.datasets import *\n",
    "from miniai.conv import *\n",
    "from miniai.learner import *\n",
    "from miniai.activations import *\n",
    "from miniai.init import *"
   ]
  },
  {
   "cell_type": "code",
   "execution_count": 39,
   "id": "3a3414ab-19a7-4891-8308-3b4526622ddb",
   "metadata": {},
   "outputs": [],
   "source": [
    "import math"
   ]
  },
  {
   "cell_type": "code",
   "execution_count": 3,
   "id": "fb9be745-1d99-457c-9d63-d286e15fb295",
   "metadata": {
    "scrolled": true
   },
   "outputs": [
    {
     "name": "stderr",
     "output_type": "stream",
     "text": [
      "Found cached dataset fashion_mnist (/home/andres/.cache/huggingface/datasets/fashion_mnist/fashion_mnist/1.0.0/0a671f063342996f19779d38c0ab4abef9c64f757b35af8134b331c294d7ba48)\n"
     ]
    },
    {
     "data": {
      "application/vnd.jupyter.widget-view+json": {
       "model_id": "07b9633dabf54b9084fb2201591376dd",
       "version_major": 2,
       "version_minor": 0
      },
      "text/plain": [
       "  0%|          | 0/2 [00:00<?, ?it/s]"
      ]
     },
     "metadata": {},
     "output_type": "display_data"
    }
   ],
   "source": [
    "xl,yl = 'image','label'\n",
    "name = \"fashion_mnist\"\n",
    "dsd = load_dataset(name)\n",
    "\n",
    "bs = 1024\n",
    "xmean,xstd = 0.28, 0.35\n",
    "\n",
    "@inplace\n",
    "def transformi(b): b[xl] = [(TF.to_tensor(o)-xmean)/xstd for o in b[xl]]\n",
    "\n",
    "tds = dsd.with_transform(transformi)\n",
    "dls = DataLoaders.from_dd(tds, bs, num_workers=4)"
   ]
  },
  {
   "cell_type": "code",
   "execution_count": 4,
   "id": "fab59d57-2ba6-4b4b-8bc0-675e7ec3729e",
   "metadata": {},
   "outputs": [],
   "source": [
    "metrics = MetricsCB(accuracy=MulticlassAccuracy())\n",
    "astats = ActivationStats(fc.risinstance(GeneralRelu))\n",
    "cbs = [DeviceCB(), metrics, ProgressCB(plot=True), astats]\n",
    "act_gr = partial(GeneralRelu, leak=0.1, sub=0.4)\n",
    "iw = partial(init_weights, leaky=0.1)\n",
    "lrf_cbs = [DeviceCB(), LRFinderCB()]"
   ]
  },
  {
   "cell_type": "code",
   "execution_count": 86,
   "id": "6a614d9d-cf3a-47f1-80dc-b24d3c062496",
   "metadata": {},
   "outputs": [],
   "source": [
    "learn = TrainLearner(get_model(), dls, F.cross_entropy, lr=6e-3, cbs=[DeviceCB(), SingleBatchCB()])\n",
    "learn.fit(1)"
   ]
  },
  {
   "cell_type": "code",
   "execution_count": 87,
   "id": "267fb27b-dcd0-432a-88d5-aee91d6964d2",
   "metadata": {},
   "outputs": [
    {
     "data": {
      "text/plain": [
       "'add_param_group defaults load_state_dict param_groups profile_hook_step register_step_post_hook register_step_pre_hook state state_dict step zero_grad'"
      ]
     },
     "execution_count": 87,
     "metadata": {},
     "output_type": "execute_result"
    }
   ],
   "source": [
    "opt = learn.opt\n",
    "' '.join(o for o in dir(opt) if o[0]!='_')"
   ]
  },
  {
   "cell_type": "code",
   "execution_count": 82,
   "id": "beb0c2eb-c20b-48ab-94e3-4c0fb3078c08",
   "metadata": {},
   "outputs": [
    {
     "data": {
      "text/plain": [
       "['params',\n",
       " 'lr',\n",
       " 'momentum',\n",
       " 'dampening',\n",
       " 'weight_decay',\n",
       " 'nesterov',\n",
       " 'maximize',\n",
       " 'foreach',\n",
       " 'differentiable']"
      ]
     },
     "execution_count": 82,
     "metadata": {},
     "output_type": "execute_result"
    }
   ],
   "source": [
    "pg = opt.param_groups[0]\n",
    "list(pg)"
   ]
  },
  {
   "cell_type": "code",
   "execution_count": 83,
   "id": "15d79d61-70bf-4582-8369-03fc35b8b916",
   "metadata": {},
   "outputs": [],
   "source": [
    "sched = lr_scheduler.CosineAnnealingLR(opt, 100)"
   ]
  },
  {
   "cell_type": "code",
   "execution_count": 84,
   "id": "4a8a2f03-297b-49fb-b397-517877941498",
   "metadata": {},
   "outputs": [],
   "source": [
    "def sched_lrs(sched, steps):\n",
    "    lrs = [sched.get_last_lr()]\n",
    "    for i in range(steps):\n",
    "        sched.optimizer.step()\n",
    "        sched.step()\n",
    "        lrs.append(sched.get_last_lr())\n",
    "    plt.plot(lrs)"
   ]
  },
  {
   "cell_type": "code",
   "execution_count": 85,
   "id": "b5eb995a-6503-4317-b90c-03661ae2cb1d",
   "metadata": {},
   "outputs": [
    {
     "data": {
      "image/png": "[encoded data removed]",
      "text/plain": [
       "<Figure size 640x480 with 1 Axes>"
      ]
     },
     "metadata": {},
     "output_type": "display_data"
    }
   ],
   "source": [
    "sched_lrs(sched,110)"
   ]
  },
  {
   "cell_type": "markdown",
   "id": "fe1a4f4c-996a-4391-af98-0be524658b9d",
   "metadata": {},
   "source": [
    "For the COSINEANNEALINGLR we need parameters: `optimizer`,`Maximun iterations`,`last_epoch` cumplying with pytoch API"
   ]
  },
  {
   "cell_type": "markdown",
   "id": "c03054ff-bd8d-49f1-9542-803c76b71367",
   "metadata": {},
   "source": [
    "# first attempt"
   ]
  },
  {
   "cell_type": "markdown",
   "id": "8c7a0638-a0d0-459c-9f9f-e36739ae690a",
   "metadata": {},
   "source": [
    "$$ \\eta_t = \\eta_{\\text{min}} + \\frac{1}{2} (\\eta_{\\text{max}} - \\eta_{\\text{min}}) \\left(1 + \\cos\\left(\\frac{T_{\\text{cur}}}{T_{\\text{max}}} \\pi\\right)\\right) $$"
   ]
  },
  {
   "cell_type": "code",
   "execution_count": null,
   "id": "afd4042a-e4d0-4a1a-ad2e-809fdbcf080c",
   "metadata": {},
   "outputs": [],
   "source": [
    "def CosAni(opt,max_it,last_epoch):\n",
    "    if not isinstance(opt,Optimizer):\n",
    "        raise TypeError(f'wrong type {type(optimizer).__name__}')\n",
    "    lr_max = opt.param_groups[0]['initial_lr']"
   ]
  },
  {
   "cell_type": "code",
   "execution_count": 88,
   "id": "d988d73e-a536-48bc-bd0d-7fed9bae3f44",
   "metadata": {},
   "outputs": [],
   "source": [
    "class CosAni:\n",
    "    def __init__(self,opt,max_it,last_epoch = -1):\n",
    "        if not isinstance(opt,Optimizer):\n",
    "            raise TypeError(f'wrong type {type(optimizer).__name__}')\n",
    "        self.optimizer=opt\n",
    "        self.eta_max = opt.param_groups[0]['lr']\n",
    "        self.eta_min = 0\n",
    "        self.T_cur=0\n",
    "        self.T_max=max_it\n",
    "        self.current_lr = opt.param_groups[0]['lr']\n",
    "    ## you need to run this function after optimizer step\n",
    "    def step(self):\n",
    "        self.current_lr= self.eta_min + 1/2*(self.eta_max-self.eta_min)*(1+math.cos(self.T_cur/self.T_max * math.pi))\n",
    "        print(f'new_lr = {self.current_lr}')\n",
    "        self.T_cur+=1\n",
    "        ##self.optimizer.param_groups[0]['lr'] = self.current_lr\n",
    "    def get_last_lr(self):\n",
    "        return  self.current_lr\n",
    "        \n",
    "        "
   ]
  },
  {
   "cell_type": "code",
   "execution_count": 89,
   "id": "9b02497c-215d-4532-ba24-baff1900a81f",
   "metadata": {},
   "outputs": [],
   "source": [
    "sched2 = CosAni(opt,100)"
   ]
  },
  {
   "cell_type": "code",
   "execution_count": 90,
   "id": "c7d8311e-5a44-4243-ab54-01d7051aaddc",
   "metadata": {},
   "outputs": [
    {
     "name": "stdout",
     "output_type": "stream",
     "text": [
      "new_lr = 0.006\n",
      "new_lr = 0.005998519681097195\n",
      "new_lr = 0.005994080185284815\n",
      "new_lr = 0.00598668589380924\n",
      "new_lr = 0.005976344103943434\n",
      "new_lr = 0.005963065021785414\n",
      "new_lr = 0.005946861752186066\n",
      "new_lr = 0.005927750285816242\n",
      "new_lr = 0.005905749483385893\n",
      "new_lr = 0.005880881057030829\n",
      "new_lr = 0.0058531695488854615\n",
      "new_lr = 0.005822642306862677\n",
      "new_lr = 0.005789329457664754\n",
      "new_lr = 0.005753263877051943\n",
      "new_lr = 0.0057144811573980586\n",
      "new_lr = 0.0056730195725651035\n",
      "new_lr = 0.005628920040131591\n",
      "new_lr = 0.005582226081011831\n",
      "new_lr = 0.005532983776506045\n",
      "new_lr = 0.005481241722823685\n",
      "new_lr = 0.005427050983124842\n",
      "new_lr = 0.005370465037127071\n",
      "new_lr = 0.005311539728327368\n",
      "new_lr = 0.005250333208891379\n",
      "new_lr = 0.005186905882264235\n",
      "new_lr = 0.005121320343559642\n",
      "new_lr = 0.005053641317786066\n",
      "new_lr = 0.004983935595970956\n",
      "new_lr = 0.004912271969246069\n",
      "new_lr = 0.00483872116095893\n",
      "new_lr = 0.00476335575687742\n",
      "new_lr = 0.004686250133556392\n",
      "new_lr = 0.00460748038493699\n",
      "new_lr = 0.004527124247251114\n",
      "new_lr = 0.004445261022305145\n",
      "new_lr = 0.0043619714992186405\n",
      "new_lr = 0.004277337874695218\n",
      "new_lr = 0.004191443671904342\n",
      "new_lr = 0.004104373658054035\n",
      "new_lr = 0.004016213760735875\n",
      "new_lr = 0.0039270509831248425\n",
      "new_lr = 0.003836973318117688\n",
      "new_lr = 0.003746069661494565\n",
      "new_lr = 0.0036544297241896282\n",
      "new_lr = 0.0035621439437571747\n",
      "new_lr = 0.003469303395120693\n",
      "new_lr = 0.0033759997006929127\n",
      "new_lr = 0.0032823249399555436\n",
      "new_lr = 0.0031883715585879404\n",
      "new_lr = 0.003094232277234385\n",
      "new_lr = 0.003\n",
      "new_lr = 0.0029057677227656152\n",
      "new_lr = 0.00281162844141206\n",
      "new_lr = 0.002717675060044457\n",
      "new_lr = 0.002624000299307087\n",
      "new_lr = 0.002530696604879307\n",
      "new_lr = 0.0024378560562428255\n",
      "new_lr = 0.002345570275810373\n",
      "new_lr = 0.0022539303385054363\n",
      "new_lr = 0.0021630266818823125\n",
      "new_lr = 0.002072949016875158\n",
      "new_lr = 0.001983786239264126\n",
      "new_lr = 0.0018956263419459662\n",
      "new_lr = 0.0018085563280956585\n",
      "new_lr = 0.001722662125304782\n",
      "new_lr = 0.0016380285007813599\n",
      "new_lr = 0.0015547389776948536\n",
      "new_lr = 0.001472875752748886\n",
      "new_lr = 0.0013925196150630095\n",
      "new_lr = 0.001313749866443609\n",
      "new_lr = 0.001236644243122581\n",
      "new_lr = 0.0011612788390410712\n",
      "new_lr = 0.0010877280307539307\n",
      "new_lr = 0.001016064404029045\n",
      "new_lr = 0.0009463586822139338\n",
      "new_lr = 0.0008786796564403576\n",
      "new_lr = 0.000813094117735766\n",
      "new_lr = 0.0007496667911086213\n",
      "new_lr = 0.0006884602716726326\n",
      "new_lr = 0.0006295349628729288\n",
      "new_lr = 0.000572949016875158\n",
      "new_lr = 0.0005187582771763142\n",
      "new_lr = 0.00046701622349395544\n",
      "new_lr = 0.0004177739189881694\n",
      "new_lr = 0.0003710799598684099\n",
      "new_lr = 0.00032698042743489666\n",
      "new_lr = 0.00028551884260194195\n",
      "new_lr = 0.0002467361229480566\n",
      "new_lr = 0.00021067054233524595\n",
      "new_lr = 0.00017735769313732364\n",
      "new_lr = 0.00014683045111453942\n",
      "new_lr = 0.00011911894296917081\n",
      "new_lr = 9.425051661410677e-05\n",
      "new_lr = 7.22497141837577e-05\n",
      "new_lr = 5.3138247813934173e-05\n",
      "new_lr = 3.693497821458702e-05\n",
      "new_lr = 2.3655896056566707e-05\n",
      "new_lr = 1.3314106190760012e-05\n",
      "new_lr = 5.919814715185323e-06\n",
      "new_lr = 1.4803189028051999e-06\n",
      "new_lr = 0.0\n",
      "new_lr = 1.4803189028051999e-06\n",
      "new_lr = 5.919814715185323e-06\n",
      "new_lr = 1.3314106190760012e-05\n",
      "new_lr = 2.3655896056566372e-05\n",
      "new_lr = 3.693497821458669e-05\n",
      "new_lr = 5.3138247813934173e-05\n",
      "new_lr = 7.22497141837577e-05\n",
      "new_lr = 9.425051661410677e-05\n",
      "new_lr = 0.00011911894296917081\n"
     ]
    },
    {
     "data": {
      "image/png": "[encoded data removed]",
      "text/plain": [
       "<Figure size 640x480 with 1 Axes>"
      ]
     },
     "metadata": {},
     "output_type": "display_data"
    }
   ],
   "source": [
    "sched_lrs(sched2,110)"
   ]
  },
  {
   "cell_type": "code",
   "execution_count": null,
   "id": "c3bd3b02-5872-43f6-804f-ef5960e551e7",
   "metadata": {},
   "outputs": [],
   "source": []
  }
 ],
 "metadata": {
  "kernelspec": {
   "display_name": "Python 3 (ipykernel)",
   "language": "python",
   "name": "python3"
  },
  "language_info": {
   "codemirror_mode": {
    "name": "ipython",
    "version": 3
   },
   "file_extension": ".py",
   "mimetype": "text/x-python",
   "name": "python",
   "nbconvert_exporter": "python",
   "pygments_lexer": "ipython3",
   "version": "3.10.10"
  }
 },
 "nbformat": 4,
 "nbformat_minor": 5
}
